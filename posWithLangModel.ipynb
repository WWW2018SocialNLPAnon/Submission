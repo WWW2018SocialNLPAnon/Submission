{
 "cells": [
  {
   "cell_type": "code",
   "execution_count": 1,
   "metadata": {
    "collapsed": true
   },
   "outputs": [],
   "source": [
    "import pycrfsuite\n",
    "import numpy as np\n",
    "from sklearn.metrics import classification_report"
   ]
  },
  {
   "cell_type": "markdown",
   "metadata": {},
   "source": [
    "# Prepare data"
   ]
  },
  {
   "cell_type": "code",
   "execution_count": 2,
   "metadata": {
    "collapsed": false
   },
   "outputs": [],
   "source": [
    "with open(\"finalDataset/uriPOSTagged.tsv\", 'r') as fp:\n",
    "\tdata = fp.readlines()"
   ]
  },
  {
   "cell_type": "code",
   "execution_count": 3,
   "metadata": {
    "collapsed": true
   },
   "outputs": [],
   "source": [
    "for i in range(len(data)):\n",
    "\tdata[i] = data[i].strip('\\n')\n",
    "\tdata[i] = data[i].split('\\t')"
   ]
  },
  {
   "cell_type": "code",
   "execution_count": 4,
   "metadata": {
    "collapsed": true
   },
   "outputs": [],
   "source": [
    "tweets = []\n",
    "currPoint = []\n",
    "\n",
    "for token in data:\n",
    "\tif len(token) == 1 and token[0] == '':\n",
    "\t\tif len(currPoint) > 0:\n",
    "\t\t\ttweets.append(currPoint)\n",
    "\t\t\tcurrPoint = []\n",
    "\telse:\n",
    "\t\tcurrPoint.append(token)\n",
    "        "
   ]
  },
  {
   "cell_type": "code",
   "execution_count": 5,
   "metadata": {
    "collapsed": false
   },
   "outputs": [
    {
     "data": {
      "text/plain": [
       "909"
      ]
     },
     "execution_count": 5,
     "metadata": {},
     "output_type": "execute_result"
    }
   ],
   "source": [
    "len(tweets)"
   ]
  },
  {
   "cell_type": "markdown",
   "metadata": {},
   "source": [
    "# Feature functions"
   ]
  },
  {
   "cell_type": "code",
   "execution_count": 6,
   "metadata": {
    "collapsed": true
   },
   "outputs": [],
   "source": [
    "def asciiPercentage(s):\n",
    "\tcount = 0.\n",
    "\tfor char in s:\n",
    "\t\tif ord(char) < 128:\n",
    "\t\t\tcount += 1\n",
    "\treturn count/len(s)\n",
    "\n",
    "def vowelPercentage(s):\n",
    "\tvowels = \"aeiou\"\n",
    "\tcount = 0.\n",
    "\tfor char in s:\n",
    "\t\tif char in vowels:\n",
    "\t\t\tcount += 1\n",
    "\treturn count/len(s)"
   ]
  },
  {
   "cell_type": "markdown",
   "metadata": {},
   "source": [
    "# Feature extractor"
   ]
  },
  {
   "cell_type": "code",
   "execution_count": 7,
   "metadata": {
    "collapsed": false
   },
   "outputs": [],
   "source": [
    "def word2features(sent, i):\n",
    "\n",
    "\t# feature vector\n",
    "\t# word, pos, lang\n",
    "\n",
    "    word = sent[i][0]\n",
    "    wordClean = ''.join([ch for ch in word if ch in 'asdfghjklqwertyuiopzxcvbnmQWERTYUIOPASDFGHJKLZXCVBNM']).lower()\n",
    "    normalizedWord = wordClean.lower()\n",
    "    \n",
    "    anyCap = any(char.isupper() for char in word)\n",
    "    allCap = all(char.isupper() for char in word)\n",
    "    hasSpecial = any( ord(char) > 32 and ord(char) < 65 for char in word)\n",
    "    lang = sent[i][1]\n",
    "    \n",
    "    hashTag = word[0] == '#'\n",
    "    mention = word[0] == '@'\n",
    "    \n",
    "    \n",
    "    features = {'word' : word, 'wordClean' : wordClean, 'normalizedWord' : normalizedWord, \\\n",
    "                'lang' : lang,\n",
    "                'isTitle' : word.istitle(), 'wordLength' : len(word), \\\n",
    "                'anyCap' : anyCap, 'allCap' : word.isupper(),\n",
    "                'hasSpecial' : hasSpecial, 'asciiPer' : asciiPercentage(word)}\n",
    "    \n",
    "    \n",
    "    features['suffix5'] = word[-5:]\n",
    "    features['prefix5'] = word[:5]\n",
    "    features['suffix4'] = word[-4:]\n",
    "    features['prefix4'] = word[:4]\n",
    "    features['suffix3'] = word[-3:]\n",
    "    features['prefix3'] = word[:3]\n",
    "    features['suffix2'] = word[-2:]\n",
    "    features['prefix2'] = word[:2]\n",
    "    features['suffix1'] = word[-1:]\n",
    "    features['prefix1'] = word[:1]  \n",
    "    \n",
    "    \n",
    "    if i > 0:\n",
    "\n",
    "        word = sent[i - 1][0]\n",
    "        wordClean = ''.join([ch for ch in word if ch in 'asdfghjklqwertyuiopzxcvbnmQWERTYUIOPASDFGHJKLZXCVBNM']).lower()\n",
    "        normalizedWord = wordClean.lower()\n",
    "        lang = sent[i - 1][1]\n",
    "\n",
    "        features['-1:word'] = word\n",
    "        features['-1:wordClean'] = wordClean\n",
    "        features['-1:normalizedWord'] = normalizedWord\n",
    "        features['BOS'] = False\n",
    "        features['-1:lang'] = lang\n",
    "\n",
    "    else:\n",
    "        features['-1:word'] = ''\n",
    "        features['-1:wordClean'] = ''\n",
    "        features['-1:normalizedWord'] = ''\n",
    "        features['BOS'] = True\n",
    "        features['-1:lang'] = ''\n",
    "\n",
    "\n",
    "    if i < len(sent) - 1:\n",
    "\n",
    "        word = sent[i + 1][0]\n",
    "        wordClean = ''.join([ch for ch in word if ch in 'asdfghjklqwertyuiopzxcvbnmQWERTYUIOPASDFGHJKLZXCVBNM']).lower()\n",
    "        normalizedWord = wordClean.lower()\n",
    "        lang = sent[i + 1][1]\n",
    "\n",
    "        features['+1:word'] = word\n",
    "        features['+1:wordClean'] = wordClean\n",
    "        features['+1:normalizedWord'] = normalizedWord\n",
    "        features['+1:lang'] = lang\n",
    "        features['EOS'] = False\n",
    "        \n",
    "    else:\n",
    "        features['+1:word'] = ''\n",
    "        features['+1:wordClean'] = ''\n",
    "        features['+1:normalizedWord'] = ''\n",
    "        features['+1:lang'] = ''\n",
    "        features['EOS'] = True\n",
    "\n",
    "    return features\n",
    "\n"
   ]
  },
  {
   "cell_type": "markdown",
   "metadata": {},
   "source": [
    "# Extracting features from Sequences"
   ]
  },
  {
   "cell_type": "code",
   "execution_count": 8,
   "metadata": {
    "collapsed": true
   },
   "outputs": [],
   "source": [
    "def sent2features(sent):\n",
    "\tfeatures = []\n",
    "\n",
    "\tfor i in range(len(sent)):\n",
    "\t\tfeatures.append(word2features(sent, i))\n",
    "\n",
    "\treturn features\n",
    "\n",
    "def sent2labels(sent):\n",
    "\tallLabels = []\n",
    "\n",
    "\tfor i in sent:\n",
    "\t\tallLabels.append(i[2])\n",
    "\n",
    "\treturn allLabels\n",
    "\n",
    "def sent2tokens(sent):\n",
    "\n",
    "\tallTokens = []\n",
    "\n",
    "\tfor i in sent:\n",
    "\t\tallTokens.append(i[0])\n",
    "\n",
    "\treturn allTokens"
   ]
  },
  {
   "cell_type": "code",
   "execution_count": 9,
   "metadata": {
    "collapsed": true
   },
   "outputs": [],
   "source": [
    "# Params; obtained from Grid Search\n",
    "\n",
    "c1 = 0.0001\n",
    "c2 = 0.1"
   ]
  },
  {
   "cell_type": "code",
   "execution_count": 10,
   "metadata": {
    "collapsed": false,
    "scrolled": false
   },
   "outputs": [
    {
     "name": "stdout",
     "output_type": "stream",
     "text": [
      "cross validation 0 for c1 : 0.0001 c2 : 0.1\n",
      "--> Extracting Train Set ...\n",
      "--> Extracting Test Set ...\n",
      "--> Loading CRF module ...\n",
      "Training ...\n",
      "Testing ...\n",
      "cross validation 1 for c1 : 0.0001 c2 : 0.1\n",
      "--> Extracting Train Set ...\n",
      "--> Extracting Test Set ...\n",
      "--> Loading CRF module ...\n",
      "Training ...\n",
      "Testing ...\n",
      "cross validation 2 for c1 : 0.0001 c2 : 0.1\n",
      "--> Extracting Train Set ...\n",
      "--> Extracting Test Set ...\n",
      "--> Loading CRF module ...\n",
      "Training ...\n",
      "Testing ...\n",
      "cross validation 3 for c1 : 0.0001 c2 : 0.1\n",
      "--> Extracting Train Set ...\n",
      "--> Extracting Test Set ...\n",
      "--> Loading CRF module ...\n",
      "Training ...\n",
      "Testing ...\n",
      "cross validation 4 for c1 : 0.0001 c2 : 0.1\n",
      "--> Extracting Train Set ...\n",
      "--> Extracting Test Set ...\n",
      "--> Loading CRF module ...\n",
      "Training ...\n",
      "Testing ...\n",
      " CRF Classification\n",
      "c1 : 0.0001 c2 : 0.1\n",
      "             precision    recall  f1-score   support\n",
      "\n",
      "        ADJ     0.7195    0.6660    0.6917       982\n",
      "        ADP     0.9168    0.9334    0.9250      1818\n",
      "        ADV     0.8037    0.6845    0.7394       634\n",
      "       CONJ     0.9403    0.8514    0.8936       444\n",
      "        DET     0.8808    0.8574    0.8689       638\n",
      "       NOUN     0.8249    0.8428    0.8338      2812\n",
      "        NUM     0.9519    0.8462    0.8959       234\n",
      "       PART     0.8725    0.8312    0.8514       634\n",
      "   PART_NEG     0.9444    0.9770    0.9605       261\n",
      "       PRON     0.8916    0.8151    0.8517       898\n",
      "    PRON_WH     0.9091    0.8403    0.8734       238\n",
      "      PROPN     0.9017    0.9253    0.9133      1526\n",
      "       VERB     0.8470    0.9119    0.8782      3654\n",
      "          X     0.9903    0.9802    0.9852      4486\n",
      "\n",
      "avg / total     0.8897    0.8896    0.8890     19259\n",
      "\n"
     ]
    }
   ],
   "source": [
    "k = 5\n",
    "\n",
    "chunk = len(tweets) / k\n",
    "results = []\n",
    "\n",
    "allTestPredictions = []\n",
    "allTestGroundTruth = []\n",
    "\n",
    "for i in range(k):\n",
    "\n",
    "    print \"cross validation\", i, 'for', 'c1 :', c1, 'c2 :', c2\n",
    "\n",
    "    test_sents = tweets[i * chunk : (i + 1) * chunk]\n",
    "    train_sents = tweets[:i * chunk] + tweets[(i + 1) * chunk:]\n",
    "\n",
    "    print \"--> Extracting Train Set ...\"\n",
    "    X_train = [sent2features(s) for s in train_sents]\n",
    "    y_train = [sent2labels(s) for s in train_sents]\n",
    "\n",
    "    print \"--> Extracting Test Set ...\"\n",
    "    X_test = [sent2features(s) for s in test_sents]\n",
    "    y_test = [sent2labels(s) for s in test_sents]\n",
    "\n",
    "    print \"--> Loading CRF module ...\"\n",
    "    trainer = pycrfsuite.Trainer(verbose=False)\n",
    "\n",
    "    for xseq, yseq in zip(X_train, y_train):\n",
    "        trainer.append(xseq, yseq)\n",
    "\n",
    "    trainer.set_params({\n",
    "        'c1': c1,   # coefficient for L1 penalty\n",
    "        'c2': c2,  # coefficient for L2 penalty\n",
    "        'max_iterations': 1000,  # stop earlier\n",
    "\n",
    "        # include transitions that are possible, but not observed\n",
    "        'feature.possible_transitions': True,\n",
    "        'feature.possible_states' : True\n",
    "    })\n",
    "\n",
    "    print \"Training ...\"\n",
    "    trainer.train('posPlus_uri_' + str(i))\n",
    "\n",
    "    print \"Testing ...\"\n",
    "    tagger = pycrfsuite.Tagger()\n",
    "    tagger.open('posPlus_uri_' + str(i))\n",
    "\n",
    "    y_pred = []\n",
    "\n",
    "    for xseq in X_test:\n",
    "        y_pred.append(tagger.tag(xseq))\n",
    "\n",
    "    \"\"\" CRF based classification \"\"\"\n",
    "\n",
    "    predictedLabels = []\n",
    "    correctLabels = []\n",
    "\n",
    "    for i in y_pred:\n",
    "        for j in i:\n",
    "            predictedLabels.append(j)\n",
    "            allTestPredictions.append(j)\n",
    "\n",
    "    for i in y_test:\n",
    "        for j in i:\n",
    "            correctLabels.append(j)\n",
    "            allTestGroundTruth.append(j)\n",
    "\n",
    "print \"\"\" CRF Classification\"\"\"\n",
    "print 'c1 :', c1, 'c2 :', c2\n",
    "print classification_report(allTestGroundTruth, allTestPredictions, digits = 4)"
   ]
  },
  {
   "cell_type": "code",
   "execution_count": null,
   "metadata": {
    "collapsed": true
   },
   "outputs": [],
   "source": []
  }
 ],
 "metadata": {
  "kernelspec": {
   "display_name": "Python 2",
   "language": "python",
   "name": "python2"
  },
  "language_info": {
   "codemirror_mode": {
    "name": "ipython",
    "version": 2
   },
   "file_extension": ".py",
   "mimetype": "text/x-python",
   "name": "python",
   "nbconvert_exporter": "python",
   "pygments_lexer": "ipython2",
   "version": "2.7.11"
  }
 },
 "nbformat": 4,
 "nbformat_minor": 2
}
